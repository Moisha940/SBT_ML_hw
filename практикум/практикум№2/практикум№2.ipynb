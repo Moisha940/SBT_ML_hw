{
 "cells": [
  {
   "cell_type": "markdown",
   "metadata": {},
   "source": [
    "# Задание 1 (4 балла)\n",
    "\n",
    "1) Прочтите датасет titanic.csv\n",
    "\n",
    "2) Разделите на train-val выборки с помощью train_test_split функции, процент test = 0.2\n",
    "\n",
    "3) Закодируйте категориальные признаки, стандартизуйте действительные признаки, заполните пропущенные данные, удалите лишение признаки. \n",
    "\n",
    "4) Обучите алгоритм логистической регрессии на тренировочной выборке. Какие признаки больше всего влияют на качество предсказаний алгоритма?\n",
    "\n",
    "5) Рассчитайте precision алгоритма"
   ]
  },
  {
   "cell_type": "code",
   "execution_count": 2069,
   "metadata": {},
   "outputs": [],
   "source": [
    "import numpy as np\n",
    "import pandas as pd\n",
    "import matplotlib.pyplot as plt\n",
    "import matplotlib.colors as pltcolors\n",
    "import category_encoders as ce\n",
    "from sklearn.metrics import precision_score\n",
    "from scipy import optimize\n",
    "from sklearn.svm import SVC\n",
    "from sklearn.linear_model import SGDClassifier\n",
    "from sklearn.preprocessing import OneHotEncoder\n",
    "from sklearn.datasets import make_classification\n",
    "from sklearn.model_selection import train_test_split\n",
    "from sklearn.preprocessing import StandardScaler\n"
   ]
  },
  {
   "cell_type": "code",
   "execution_count": 2070,
   "metadata": {},
   "outputs": [],
   "source": [
    "# !wget https://raw.githubusercontent.com/rolandmueller/titanic/main/titanic3.csv"
   ]
  },
  {
   "cell_type": "code",
   "execution_count": 2071,
   "metadata": {},
   "outputs": [
    {
     "name": "stdout",
     "output_type": "stream",
     "text": [
      "(14,)\n"
     ]
    },
    {
     "data": {
      "text/html": [
       "<div>\n",
       "<style scoped>\n",
       "    .dataframe tbody tr th:only-of-type {\n",
       "        vertical-align: middle;\n",
       "    }\n",
       "\n",
       "    .dataframe tbody tr th {\n",
       "        vertical-align: top;\n",
       "    }\n",
       "\n",
       "    .dataframe thead th {\n",
       "        text-align: right;\n",
       "    }\n",
       "</style>\n",
       "<table border=\"1\" class=\"dataframe\">\n",
       "  <thead>\n",
       "    <tr style=\"text-align: right;\">\n",
       "      <th></th>\n",
       "      <th>pclass</th>\n",
       "      <th>survived</th>\n",
       "      <th>name</th>\n",
       "      <th>sex</th>\n",
       "      <th>age</th>\n",
       "      <th>sibsp</th>\n",
       "      <th>parch</th>\n",
       "      <th>ticket</th>\n",
       "      <th>fare</th>\n",
       "      <th>cabin</th>\n",
       "      <th>embarked</th>\n",
       "      <th>boat</th>\n",
       "      <th>body</th>\n",
       "      <th>home.dest</th>\n",
       "    </tr>\n",
       "  </thead>\n",
       "  <tbody>\n",
       "    <tr>\n",
       "      <th>0</th>\n",
       "      <td>1</td>\n",
       "      <td>1</td>\n",
       "      <td>Allen, Miss. Elisabeth Walton</td>\n",
       "      <td>female</td>\n",
       "      <td>29.0000</td>\n",
       "      <td>0</td>\n",
       "      <td>0</td>\n",
       "      <td>24160</td>\n",
       "      <td>211.3375</td>\n",
       "      <td>B5</td>\n",
       "      <td>S</td>\n",
       "      <td>2</td>\n",
       "      <td>NaN</td>\n",
       "      <td>St Louis, MO</td>\n",
       "    </tr>\n",
       "    <tr>\n",
       "      <th>1</th>\n",
       "      <td>1</td>\n",
       "      <td>1</td>\n",
       "      <td>Allison, Master. Hudson Trevor</td>\n",
       "      <td>male</td>\n",
       "      <td>0.9167</td>\n",
       "      <td>1</td>\n",
       "      <td>2</td>\n",
       "      <td>113781</td>\n",
       "      <td>151.5500</td>\n",
       "      <td>C22 C26</td>\n",
       "      <td>S</td>\n",
       "      <td>11</td>\n",
       "      <td>NaN</td>\n",
       "      <td>Montreal, PQ / Chesterville, ON</td>\n",
       "    </tr>\n",
       "    <tr>\n",
       "      <th>2</th>\n",
       "      <td>1</td>\n",
       "      <td>0</td>\n",
       "      <td>Allison, Miss. Helen Loraine</td>\n",
       "      <td>female</td>\n",
       "      <td>2.0000</td>\n",
       "      <td>1</td>\n",
       "      <td>2</td>\n",
       "      <td>113781</td>\n",
       "      <td>151.5500</td>\n",
       "      <td>C22 C26</td>\n",
       "      <td>S</td>\n",
       "      <td>NaN</td>\n",
       "      <td>NaN</td>\n",
       "      <td>Montreal, PQ / Chesterville, ON</td>\n",
       "    </tr>\n",
       "    <tr>\n",
       "      <th>3</th>\n",
       "      <td>1</td>\n",
       "      <td>0</td>\n",
       "      <td>Allison, Mr. Hudson Joshua Creighton</td>\n",
       "      <td>male</td>\n",
       "      <td>30.0000</td>\n",
       "      <td>1</td>\n",
       "      <td>2</td>\n",
       "      <td>113781</td>\n",
       "      <td>151.5500</td>\n",
       "      <td>C22 C26</td>\n",
       "      <td>S</td>\n",
       "      <td>NaN</td>\n",
       "      <td>135.0</td>\n",
       "      <td>Montreal, PQ / Chesterville, ON</td>\n",
       "    </tr>\n",
       "    <tr>\n",
       "      <th>4</th>\n",
       "      <td>1</td>\n",
       "      <td>0</td>\n",
       "      <td>Allison, Mrs. Hudson J C (Bessie Waldo Daniels)</td>\n",
       "      <td>female</td>\n",
       "      <td>25.0000</td>\n",
       "      <td>1</td>\n",
       "      <td>2</td>\n",
       "      <td>113781</td>\n",
       "      <td>151.5500</td>\n",
       "      <td>C22 C26</td>\n",
       "      <td>S</td>\n",
       "      <td>NaN</td>\n",
       "      <td>NaN</td>\n",
       "      <td>Montreal, PQ / Chesterville, ON</td>\n",
       "    </tr>\n",
       "  </tbody>\n",
       "</table>\n",
       "</div>"
      ],
      "text/plain": [
       "   pclass  survived                                             name     sex  \\\n",
       "0       1         1                    Allen, Miss. Elisabeth Walton  female   \n",
       "1       1         1                   Allison, Master. Hudson Trevor    male   \n",
       "2       1         0                     Allison, Miss. Helen Loraine  female   \n",
       "3       1         0             Allison, Mr. Hudson Joshua Creighton    male   \n",
       "4       1         0  Allison, Mrs. Hudson J C (Bessie Waldo Daniels)  female   \n",
       "\n",
       "       age  sibsp  parch  ticket      fare    cabin embarked boat   body  \\\n",
       "0  29.0000      0      0   24160  211.3375       B5        S    2    NaN   \n",
       "1   0.9167      1      2  113781  151.5500  C22 C26        S   11    NaN   \n",
       "2   2.0000      1      2  113781  151.5500  C22 C26        S  NaN    NaN   \n",
       "3  30.0000      1      2  113781  151.5500  C22 C26        S  NaN  135.0   \n",
       "4  25.0000      1      2  113781  151.5500  C22 C26        S  NaN    NaN   \n",
       "\n",
       "                         home.dest  \n",
       "0                     St Louis, MO  \n",
       "1  Montreal, PQ / Chesterville, ON  \n",
       "2  Montreal, PQ / Chesterville, ON  \n",
       "3  Montreal, PQ / Chesterville, ON  \n",
       "4  Montreal, PQ / Chesterville, ON  "
      ]
     },
     "execution_count": 2071,
     "metadata": {},
     "output_type": "execute_result"
    }
   ],
   "source": [
    "# чтение данных\n",
    "df = pd.read_csv('titanic3.csv')\n",
    "print(df.columns.shape)\n",
    "df.head()"
   ]
  },
  {
   "cell_type": "code",
   "execution_count": 2072,
   "metadata": {},
   "outputs": [
    {
     "data": {
      "text/html": [
       "<div>\n",
       "<style scoped>\n",
       "    .dataframe tbody tr th:only-of-type {\n",
       "        vertical-align: middle;\n",
       "    }\n",
       "\n",
       "    .dataframe tbody tr th {\n",
       "        vertical-align: top;\n",
       "    }\n",
       "\n",
       "    .dataframe thead th {\n",
       "        text-align: right;\n",
       "    }\n",
       "</style>\n",
       "<table border=\"1\" class=\"dataframe\">\n",
       "  <thead>\n",
       "    <tr style=\"text-align: right;\">\n",
       "      <th></th>\n",
       "      <th>survived</th>\n",
       "      <th>sex</th>\n",
       "      <th>age</th>\n",
       "      <th>sibsp</th>\n",
       "      <th>parch</th>\n",
       "      <th>fare</th>\n",
       "    </tr>\n",
       "  </thead>\n",
       "  <tbody>\n",
       "    <tr>\n",
       "      <th>0</th>\n",
       "      <td>1</td>\n",
       "      <td>female</td>\n",
       "      <td>29.0000</td>\n",
       "      <td>0</td>\n",
       "      <td>0</td>\n",
       "      <td>211.3375</td>\n",
       "    </tr>\n",
       "    <tr>\n",
       "      <th>1</th>\n",
       "      <td>1</td>\n",
       "      <td>male</td>\n",
       "      <td>0.9167</td>\n",
       "      <td>1</td>\n",
       "      <td>2</td>\n",
       "      <td>151.5500</td>\n",
       "    </tr>\n",
       "    <tr>\n",
       "      <th>2</th>\n",
       "      <td>0</td>\n",
       "      <td>female</td>\n",
       "      <td>2.0000</td>\n",
       "      <td>1</td>\n",
       "      <td>2</td>\n",
       "      <td>151.5500</td>\n",
       "    </tr>\n",
       "    <tr>\n",
       "      <th>3</th>\n",
       "      <td>0</td>\n",
       "      <td>male</td>\n",
       "      <td>30.0000</td>\n",
       "      <td>1</td>\n",
       "      <td>2</td>\n",
       "      <td>151.5500</td>\n",
       "    </tr>\n",
       "    <tr>\n",
       "      <th>4</th>\n",
       "      <td>0</td>\n",
       "      <td>female</td>\n",
       "      <td>25.0000</td>\n",
       "      <td>1</td>\n",
       "      <td>2</td>\n",
       "      <td>151.5500</td>\n",
       "    </tr>\n",
       "    <tr>\n",
       "      <th>...</th>\n",
       "      <td>...</td>\n",
       "      <td>...</td>\n",
       "      <td>...</td>\n",
       "      <td>...</td>\n",
       "      <td>...</td>\n",
       "      <td>...</td>\n",
       "    </tr>\n",
       "    <tr>\n",
       "      <th>1304</th>\n",
       "      <td>0</td>\n",
       "      <td>female</td>\n",
       "      <td>14.5000</td>\n",
       "      <td>1</td>\n",
       "      <td>0</td>\n",
       "      <td>14.4542</td>\n",
       "    </tr>\n",
       "    <tr>\n",
       "      <th>1305</th>\n",
       "      <td>0</td>\n",
       "      <td>female</td>\n",
       "      <td>NaN</td>\n",
       "      <td>1</td>\n",
       "      <td>0</td>\n",
       "      <td>14.4542</td>\n",
       "    </tr>\n",
       "    <tr>\n",
       "      <th>1306</th>\n",
       "      <td>0</td>\n",
       "      <td>male</td>\n",
       "      <td>26.5000</td>\n",
       "      <td>0</td>\n",
       "      <td>0</td>\n",
       "      <td>7.2250</td>\n",
       "    </tr>\n",
       "    <tr>\n",
       "      <th>1307</th>\n",
       "      <td>0</td>\n",
       "      <td>male</td>\n",
       "      <td>27.0000</td>\n",
       "      <td>0</td>\n",
       "      <td>0</td>\n",
       "      <td>7.2250</td>\n",
       "    </tr>\n",
       "    <tr>\n",
       "      <th>1308</th>\n",
       "      <td>0</td>\n",
       "      <td>male</td>\n",
       "      <td>29.0000</td>\n",
       "      <td>0</td>\n",
       "      <td>0</td>\n",
       "      <td>7.8750</td>\n",
       "    </tr>\n",
       "  </tbody>\n",
       "</table>\n",
       "<p>1309 rows × 6 columns</p>\n",
       "</div>"
      ],
      "text/plain": [
       "      survived     sex      age  sibsp  parch      fare\n",
       "0            1  female  29.0000      0      0  211.3375\n",
       "1            1    male   0.9167      1      2  151.5500\n",
       "2            0  female   2.0000      1      2  151.5500\n",
       "3            0    male  30.0000      1      2  151.5500\n",
       "4            0  female  25.0000      1      2  151.5500\n",
       "...        ...     ...      ...    ...    ...       ...\n",
       "1304         0  female  14.5000      1      0   14.4542\n",
       "1305         0  female      NaN      1      0   14.4542\n",
       "1306         0    male  26.5000      0      0    7.2250\n",
       "1307         0    male  27.0000      0      0    7.2250\n",
       "1308         0    male  29.0000      0      0    7.8750\n",
       "\n",
       "[1309 rows x 6 columns]"
      ]
     },
     "execution_count": 2072,
     "metadata": {},
     "output_type": "execute_result"
    }
   ],
   "source": [
    "# отбор признаков\n",
    "features = ['survived', 'sex', 'age', 'sibsp', 'parch', 'fare']\n",
    "df[features]"
   ]
  },
  {
   "cell_type": "code",
   "execution_count": 2073,
   "metadata": {},
   "outputs": [
    {
     "data": {
      "text/plain": [
       "((1047, 6), (262, 6))"
      ]
     },
     "execution_count": 2073,
     "metadata": {},
     "output_type": "execute_result"
    }
   ],
   "source": [
    "# разделение на train и test\n",
    "X_train, X_test, y_train, y_test = train_test_split(df[features], df['pclass'], test_size=0.2, random_state=0)\n",
    "X_train.shape, X_test.shape"
   ]
  },
  {
   "cell_type": "code",
   "execution_count": 2074,
   "metadata": {},
   "outputs": [],
   "source": [
    "# One Hot Encodig для пола пассажиров\n",
    "\n",
    "# ПОЧЕМУ ЭТО НЕ РАБОТАЕТ?!\n",
    "#one_hot_encoder = OneHotEncoder(sparse_output=False)\n",
    "#X_train['sex'] = one_hot_encoder.fit_transform(X_train)\n",
    "#X_train\n",
    "\n",
    "\n",
    "X_train.loc[X_train['sex'] == 'male', 'sex'] = int(1)\n",
    "X_train.loc[X_train['sex'] == 'female', 'sex'] = int(0)\n",
    "\n",
    "X_test.loc[X_test['sex'] == 'male', 'sex'] = int(1)\n",
    "X_test.loc[X_test['sex'] == 'female', 'sex'] = int(0)"
   ]
  },
  {
   "cell_type": "code",
   "execution_count": 2075,
   "metadata": {},
   "outputs": [
    {
     "name": "stdout",
     "output_type": "stream",
     "text": [
      "      total missing  proportion\n",
      "age             206    0.196753\n",
      "fare              1    0.000955\n"
     ]
    }
   ],
   "source": [
    "result_train = pd.concat([X_train.isnull().sum(), X_train.isnull().mean()], axis=1)\n",
    "result_train = result_train.rename(index=str,columns={0:'total missing',1:'proportion'})\n",
    "print(result_train.apply(lambda x: x[x > 0]))\n",
    "# в трейне у 207 людей нет возраста, заменим его средним\n",
    "# отсутсвующее значение fare удалим"
   ]
  },
  {
   "cell_type": "code",
   "execution_count": 2076,
   "metadata": {},
   "outputs": [
    {
     "name": "stdout",
     "output_type": "stream",
     "text": [
      "     total missing  proportion\n",
      "age             57    0.217557\n"
     ]
    }
   ],
   "source": [
    "result_test = pd.concat([X_test.isnull().sum(), X_test.isnull().mean()], axis=1)\n",
    "result_test = result_test.rename(index=str,columns={0:'total missing',1:'proportion'})\n",
    "print(result_test.apply(lambda x: x[x > 0]))\n",
    "\n",
    "# в тесте у 56 людей нет возраста, заменим его средним"
   ]
  },
  {
   "cell_type": "code",
   "execution_count": 2077,
   "metadata": {},
   "outputs": [],
   "source": [
    "# удаление 1-го значения fare\n",
    "null_index_train = X_train[X_train['fare'].isnull()].index.to_numpy()\n",
    "X_train = X_train.dropna(subset=['fare'], axis=0, inplace=False)\n",
    "y_train = y_train.drop(null_index_train)"
   ]
  },
  {
   "cell_type": "code",
   "execution_count": 2078,
   "metadata": {},
   "outputs": [],
   "source": [
    "# замена возраста средним\n",
    "X_train['age'] = X_train['age'].fillna(value=X_train['age'].mean())\n",
    "X_test['age'] = X_test['age'].fillna(value=X_test['age'].mean())\n"
   ]
  },
  {
   "cell_type": "markdown",
   "metadata": {},
   "source": [
    "### Рассмотрим выбросы"
   ]
  },
  {
   "cell_type": "code",
   "execution_count": 2079,
   "metadata": {},
   "outputs": [],
   "source": [
    "def outlier_detect_IQR(data, col, threshold=3):\n",
    "    f = False\n",
    "    # Рассчитываем межквартильный размах (IQR).\n",
    "    IQR = data[col].quantile(0.75) - data[col].quantile(0.25)\n",
    "\n",
    "    # Вычисляем верхнюю и нижнюю границы для определения выбросов.\n",
    "    Lower_fence = data[col].quantile(0.25) - (IQR * threshold)\n",
    "    Upper_fence = data[col].quantile(0.75) + (IQR * threshold)\n",
    "\n",
    "    # Формируем кортеж с использованными границами.\n",
    "    para = (Upper_fence, Lower_fence)\n",
    "\n",
    "    # Создаем временный DataFrame, в котором для каждой строки указываем, превышает ли значение в столбце заданные границы.\n",
    "    tmp = pd.concat([data[col] > Upper_fence, data[col] < Lower_fence], axis=1)\n",
    "\n",
    "    # Находим индексы строк, содержащих хотя бы один выброс.\n",
    "    outlier_index = tmp.any(axis=1)\n",
    "\n",
    "    # Выводим информацию о найденных выбросах.\n",
    "    if len(outlier_index.value_counts()) > 1:\n",
    "        f = True\n",
    "        #print(col, end= \": \")\n",
    "        #print('Найдено выбросов:', outlier_index.value_counts().iloc[1])\n",
    "    # Возвращаем серию с булевыми значениями и кортеж с границами.\n",
    "    return outlier_index,f"
   ]
  },
  {
   "cell_type": "code",
   "execution_count": 2080,
   "metadata": {},
   "outputs": [
    {
     "name": "stdout",
     "output_type": "stream",
     "text": [
      "age: Найдено выбросов: 1\n",
      "sibsp: Найдено выбросов: 15\n",
      "parch: Найдено выбросов: 247\n",
      "fare: Найдено выбросов: 71\n"
     ]
    }
   ],
   "source": [
    "for i in features:\n",
    "    index, find = outlier_detect_IQR(data=X_train, col=i, threshold=3)    \n",
    "    if find:\n",
    "        print(i, end= \": \")\n",
    "        print('Найдено выбросов:', index.value_counts().iloc[1])"
   ]
  },
  {
   "cell_type": "markdown",
   "metadata": {},
   "source": [
    "Тут, я готов считать выбросами случай с parch, потому что есть случаи, когда у ребенка 9 родителей"
   ]
  },
  {
   "cell_type": "code",
   "execution_count": 2081,
   "metadata": {},
   "outputs": [],
   "source": [
    "# Если у человека больше 2 родителей, то заменяем их количество на 2\n",
    "X_train.loc[X_train['parch'] > 2, 'parch'] = 2\n"
   ]
  },
  {
   "cell_type": "code",
   "execution_count": 2082,
   "metadata": {},
   "outputs": [
    {
     "name": "stdout",
     "output_type": "stream",
     "text": [
      "age: Найдено выбросов: 1\n",
      "parch: Найдено выбросов: 60\n",
      "fare: Найдено выбросов: 13\n"
     ]
    }
   ],
   "source": [
    "for i in features:\n",
    "    index, find = outlier_detect_IQR(data=X_test, col=i, threshold=3)    \n",
    "    if find:\n",
    "        print(i, end= \": \")\n",
    "        print('Найдено выбросов:', index.value_counts().iloc[1])"
   ]
  },
  {
   "cell_type": "code",
   "execution_count": 2083,
   "metadata": {},
   "outputs": [],
   "source": [
    "# Если у человека больше 2 родителей, то заменяем их количество на 2\n",
    "X_test.loc[X_test['parch'] > 2, 'parch'] = 2"
   ]
  },
  {
   "cell_type": "markdown",
   "metadata": {},
   "source": [
    "###"
   ]
  },
  {
   "cell_type": "code",
   "execution_count": 2084,
   "metadata": {},
   "outputs": [],
   "source": [
    "# Стандартизация\n",
    "for feature in features:\n",
    "    st = StandardScaler().fit(X_train[[feature]])\n",
    "    X_train[feature] = st.transform(X_train[[feature]])\n",
    "\n",
    "for feature in features:\n",
    "    st = StandardScaler().fit(X_test[[feature]])\n",
    "    X_test[feature] = st.transform(X_test[[feature]])\n"
   ]
  },
  {
   "cell_type": "code",
   "execution_count": 2085,
   "metadata": {},
   "outputs": [
    {
     "name": "stdout",
     "output_type": "stream",
     "text": [
      "Точность:  75.19\n"
     ]
    }
   ],
   "source": [
    "# Обучение\n",
    "\n",
    "sk_model = SGDClassifier(loss='hinge', penalty='l2', fit_intercept=True, random_state=0, max_iter=500, learning_rate='constant', eta0=0.005)\n",
    "result = sk_model.fit(X_train, y_train)\n",
    "sk_model_acc = round(sk_model.score(X_test, y_test), 4)\n",
    "print('Точность: ', sk_model_acc * 100)"
   ]
  },
  {
   "cell_type": "code",
   "execution_count": 2115,
   "metadata": {},
   "outputs": [
    {
     "data": {
      "text/plain": [
       "array([[ 2.22064325e-01,  1.88591131e-01,  2.14373304e-01,\n",
       "        -9.42125045e-01, -6.29515614e-01,  3.75782592e+00],\n",
       "       [ 1.03767896e-02,  1.15168975e-02, -1.80110440e-02,\n",
       "        -4.21118207e-03,  7.63753170e-03, -1.52136234e-02],\n",
       "       [-5.68166955e-02, -2.06353241e-02, -7.88846860e-02,\n",
       "         8.35092890e-01,  3.75962968e-01, -5.78382648e+00]])"
      ]
     },
     "execution_count": 2115,
     "metadata": {},
     "output_type": "execute_result"
    }
   ],
   "source": [
    "weights = result.coef_\n",
    "weights\n"
   ]
  },
  {
   "cell_type": "markdown",
   "metadata": {},
   "source": [
    "насколько я понимаю, то первая строка показывает как признаки влияют на первый класс\n",
    "вторая строка, на второй класс\n",
    "третья строка, на трейти класс"
   ]
  },
  {
   "cell_type": "code",
   "execution_count": 2117,
   "metadata": {},
   "outputs": [
    {
     "name": "stdout",
     "output_type": "stream",
     "text": [
      "survived sex age fare \n",
      "survived sex parch \n",
      "sibsp parch \n"
     ]
    }
   ],
   "source": [
    "for raw in weights:\n",
    "    for (i, x) in enumerate(raw):\n",
    "       if (x > 0):\n",
    "           print(features[i], end = \" \")\n",
    "    print()"
   ]
  },
  {
   "cell_type": "markdown",
   "metadata": {},
   "source": [
    "# Задание №2"
   ]
  },
  {
   "cell_type": "markdown",
   "metadata": {},
   "source": [
    "Реализуйте функцию подбора оптимального порога с помощью FPR/TPR оценок на чистом Python. На вход функция принимает метки истинных классов и оценки алгоритма, на выходе функция должна определить лучший порог классификации. Подберите порог на тестовой выборке и заново оцените precision модели."
   ]
  },
  {
   "cell_type": "markdown",
   "metadata": {},
   "source": [
    "хоть оно и не работае, но за страние пару баллов пж 👉🏻👈🏻"
   ]
  },
  {
   "cell_type": "code",
   "execution_count": 2087,
   "metadata": {},
   "outputs": [],
   "source": [
    "from sklearn import metrics"
   ]
  },
  {
   "cell_type": "code",
   "execution_count": 2088,
   "metadata": {},
   "outputs": [
    {
     "name": "stdout",
     "output_type": "stream",
     "text": [
      "67\n",
      "(262,)\n"
     ]
    }
   ],
   "source": [
    "def find_optimal_threshold(y_true, y_score):\n",
    "    fpr, tpr, thresholds = metrics.roc_curve(y_true, y_score, pos_label=2)\n",
    "    optimal_idx = np.argmax(tpr - fpr)\n",
    "    optimal_threshold = thresholds[optimal_idx]\n",
    "    return optimal_threshold\n",
    "\n",
    "\n",
    "# Пример использования\n",
    "\n",
    "clf = SGDClassifier()\n",
    "clf.fit(X_train, y_train)\n",
    "y_pred = clf.predict(X_test)\n",
    "optimal_threshold = find_optimal_threshold(y_test, y_pred)\n",
    "y_pred_new = (clf.decision_function(X_test) >= optimal_threshold).astype(int)\n",
    "y_pred_new_1 = []\n",
    "for i in y_pred_new:\n",
    "    if i[0] == 1:\n",
    "        y_pred_new_1.append(1)\n",
    "    elif i[1] == 1:\n",
    "        y_pred_new_1.append(2)\n",
    "    elif i[2] == 1:\n",
    "        y_pred_new_1.append(3)\n",
    "    \n",
    "print(len(y_pred_new_1))\n",
    "print(y_test.shape)\n",
    "\n",
    "\n",
    "#precision_new = metrics.precision_score(y_test, y_pred_new)"
   ]
  }
 ],
 "metadata": {
  "kernelspec": {
   "display_name": "ml_env",
   "language": "python",
   "name": "python3"
  },
  "language_info": {
   "codemirror_mode": {
    "name": "ipython",
    "version": 3
   },
   "file_extension": ".py",
   "mimetype": "text/x-python",
   "name": "python",
   "nbconvert_exporter": "python",
   "pygments_lexer": "ipython3",
   "version": "3.12.0"
  }
 },
 "nbformat": 4,
 "nbformat_minor": 2
}
