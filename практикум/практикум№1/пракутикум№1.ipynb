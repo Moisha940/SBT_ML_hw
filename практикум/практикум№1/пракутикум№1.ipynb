{
 "cells": [
  {
   "cell_type": "markdown",
   "metadata": {},
   "source": [
    "Кажется тут будет много чего прокомментировать (^ ____ ^)\n",
    "\n",
    "очень хотел бы послушать критику"
   ]
  },
  {
   "cell_type": "markdown",
   "metadata": {},
   "source": [
    "Подключаем библеотеки"
   ]
  },
  {
   "cell_type": "code",
   "execution_count": 4391,
   "metadata": {},
   "outputs": [],
   "source": [
    "import numpy as np\n",
    "import pandas as pd\n",
    "import seaborn as sns\n",
    "import matplotlib.pylab as plt\n",
    "from sklearn.model_selection import train_test_split\n",
    "import statsmodels.api as sm\n",
    "import statsmodels.formula.api as smf\n",
    "from sklearn.preprocessing import scale\n",
    "from sklearn.preprocessing import StandardScaler\n",
    "\n",
    "%matplotlib inline\n",
    "plt.rcParams[\"figure.figsize\"] = (10,7)"
   ]
  },
  {
   "cell_type": "markdown",
   "metadata": {},
   "source": [
    "## Предварительная подготовка"
   ]
  },
  {
   "cell_type": "markdown",
   "metadata": {},
   "source": [
    "Скачаем данные"
   ]
  },
  {
   "cell_type": "code",
   "execution_count": 4392,
   "metadata": {},
   "outputs": [],
   "source": [
    "# !wget https://raw.githubusercontent.com/Data-Science-FMI/ml-from-scratch-2019/master/data/house_prices_train.csv"
   ]
  },
  {
   "cell_type": "markdown",
   "metadata": {},
   "source": [
    "Выведем первые 5 строк из датасета"
   ]
  },
  {
   "cell_type": "code",
   "execution_count": 4393,
   "metadata": {},
   "outputs": [
    {
     "name": "stdout",
     "output_type": "stream",
     "text": [
      "(81,)\n"
     ]
    },
    {
     "data": {
      "text/html": [
       "<div>\n",
       "<style scoped>\n",
       "    .dataframe tbody tr th:only-of-type {\n",
       "        vertical-align: middle;\n",
       "    }\n",
       "\n",
       "    .dataframe tbody tr th {\n",
       "        vertical-align: top;\n",
       "    }\n",
       "\n",
       "    .dataframe thead th {\n",
       "        text-align: right;\n",
       "    }\n",
       "</style>\n",
       "<table border=\"1\" class=\"dataframe\">\n",
       "  <thead>\n",
       "    <tr style=\"text-align: right;\">\n",
       "      <th></th>\n",
       "      <th>Id</th>\n",
       "      <th>MSSubClass</th>\n",
       "      <th>MSZoning</th>\n",
       "      <th>LotFrontage</th>\n",
       "      <th>LotArea</th>\n",
       "      <th>Street</th>\n",
       "      <th>Alley</th>\n",
       "      <th>LotShape</th>\n",
       "      <th>LandContour</th>\n",
       "      <th>Utilities</th>\n",
       "      <th>...</th>\n",
       "      <th>PoolArea</th>\n",
       "      <th>PoolQC</th>\n",
       "      <th>Fence</th>\n",
       "      <th>MiscFeature</th>\n",
       "      <th>MiscVal</th>\n",
       "      <th>MoSold</th>\n",
       "      <th>YrSold</th>\n",
       "      <th>SaleType</th>\n",
       "      <th>SaleCondition</th>\n",
       "      <th>SalePrice</th>\n",
       "    </tr>\n",
       "  </thead>\n",
       "  <tbody>\n",
       "    <tr>\n",
       "      <th>0</th>\n",
       "      <td>1</td>\n",
       "      <td>60</td>\n",
       "      <td>RL</td>\n",
       "      <td>65.0</td>\n",
       "      <td>8450</td>\n",
       "      <td>Pave</td>\n",
       "      <td>NaN</td>\n",
       "      <td>Reg</td>\n",
       "      <td>Lvl</td>\n",
       "      <td>AllPub</td>\n",
       "      <td>...</td>\n",
       "      <td>0</td>\n",
       "      <td>NaN</td>\n",
       "      <td>NaN</td>\n",
       "      <td>NaN</td>\n",
       "      <td>0</td>\n",
       "      <td>2</td>\n",
       "      <td>2008</td>\n",
       "      <td>WD</td>\n",
       "      <td>Normal</td>\n",
       "      <td>208500</td>\n",
       "    </tr>\n",
       "    <tr>\n",
       "      <th>1</th>\n",
       "      <td>2</td>\n",
       "      <td>20</td>\n",
       "      <td>RL</td>\n",
       "      <td>80.0</td>\n",
       "      <td>9600</td>\n",
       "      <td>Pave</td>\n",
       "      <td>NaN</td>\n",
       "      <td>Reg</td>\n",
       "      <td>Lvl</td>\n",
       "      <td>AllPub</td>\n",
       "      <td>...</td>\n",
       "      <td>0</td>\n",
       "      <td>NaN</td>\n",
       "      <td>NaN</td>\n",
       "      <td>NaN</td>\n",
       "      <td>0</td>\n",
       "      <td>5</td>\n",
       "      <td>2007</td>\n",
       "      <td>WD</td>\n",
       "      <td>Normal</td>\n",
       "      <td>181500</td>\n",
       "    </tr>\n",
       "    <tr>\n",
       "      <th>2</th>\n",
       "      <td>3</td>\n",
       "      <td>60</td>\n",
       "      <td>RL</td>\n",
       "      <td>68.0</td>\n",
       "      <td>11250</td>\n",
       "      <td>Pave</td>\n",
       "      <td>NaN</td>\n",
       "      <td>IR1</td>\n",
       "      <td>Lvl</td>\n",
       "      <td>AllPub</td>\n",
       "      <td>...</td>\n",
       "      <td>0</td>\n",
       "      <td>NaN</td>\n",
       "      <td>NaN</td>\n",
       "      <td>NaN</td>\n",
       "      <td>0</td>\n",
       "      <td>9</td>\n",
       "      <td>2008</td>\n",
       "      <td>WD</td>\n",
       "      <td>Normal</td>\n",
       "      <td>223500</td>\n",
       "    </tr>\n",
       "    <tr>\n",
       "      <th>3</th>\n",
       "      <td>4</td>\n",
       "      <td>70</td>\n",
       "      <td>RL</td>\n",
       "      <td>60.0</td>\n",
       "      <td>9550</td>\n",
       "      <td>Pave</td>\n",
       "      <td>NaN</td>\n",
       "      <td>IR1</td>\n",
       "      <td>Lvl</td>\n",
       "      <td>AllPub</td>\n",
       "      <td>...</td>\n",
       "      <td>0</td>\n",
       "      <td>NaN</td>\n",
       "      <td>NaN</td>\n",
       "      <td>NaN</td>\n",
       "      <td>0</td>\n",
       "      <td>2</td>\n",
       "      <td>2006</td>\n",
       "      <td>WD</td>\n",
       "      <td>Abnorml</td>\n",
       "      <td>140000</td>\n",
       "    </tr>\n",
       "    <tr>\n",
       "      <th>4</th>\n",
       "      <td>5</td>\n",
       "      <td>60</td>\n",
       "      <td>RL</td>\n",
       "      <td>84.0</td>\n",
       "      <td>14260</td>\n",
       "      <td>Pave</td>\n",
       "      <td>NaN</td>\n",
       "      <td>IR1</td>\n",
       "      <td>Lvl</td>\n",
       "      <td>AllPub</td>\n",
       "      <td>...</td>\n",
       "      <td>0</td>\n",
       "      <td>NaN</td>\n",
       "      <td>NaN</td>\n",
       "      <td>NaN</td>\n",
       "      <td>0</td>\n",
       "      <td>12</td>\n",
       "      <td>2008</td>\n",
       "      <td>WD</td>\n",
       "      <td>Normal</td>\n",
       "      <td>250000</td>\n",
       "    </tr>\n",
       "  </tbody>\n",
       "</table>\n",
       "<p>5 rows × 81 columns</p>\n",
       "</div>"
      ],
      "text/plain": [
       "   Id  MSSubClass MSZoning  LotFrontage  LotArea Street Alley LotShape  \\\n",
       "0   1          60       RL         65.0     8450   Pave   NaN      Reg   \n",
       "1   2          20       RL         80.0     9600   Pave   NaN      Reg   \n",
       "2   3          60       RL         68.0    11250   Pave   NaN      IR1   \n",
       "3   4          70       RL         60.0     9550   Pave   NaN      IR1   \n",
       "4   5          60       RL         84.0    14260   Pave   NaN      IR1   \n",
       "\n",
       "  LandContour Utilities  ... PoolArea PoolQC Fence MiscFeature MiscVal MoSold  \\\n",
       "0         Lvl    AllPub  ...        0    NaN   NaN         NaN       0      2   \n",
       "1         Lvl    AllPub  ...        0    NaN   NaN         NaN       0      5   \n",
       "2         Lvl    AllPub  ...        0    NaN   NaN         NaN       0      9   \n",
       "3         Lvl    AllPub  ...        0    NaN   NaN         NaN       0      2   \n",
       "4         Lvl    AllPub  ...        0    NaN   NaN         NaN       0     12   \n",
       "\n",
       "  YrSold  SaleType  SaleCondition  SalePrice  \n",
       "0   2008        WD         Normal     208500  \n",
       "1   2007        WD         Normal     181500  \n",
       "2   2008        WD         Normal     223500  \n",
       "3   2006        WD        Abnorml     140000  \n",
       "4   2008        WD         Normal     250000  \n",
       "\n",
       "[5 rows x 81 columns]"
      ]
     },
     "execution_count": 4393,
     "metadata": {},
     "output_type": "execute_result"
    }
   ],
   "source": [
    "df = pd.read_csv('house_prices_train.csv')\n",
    "print(df.columns.shape)\n",
    "df.head()"
   ]
  },
  {
   "cell_type": "markdown",
   "metadata": {},
   "source": [
    "Выделим колонки, с которыми будем работать"
   ]
  },
  {
   "cell_type": "code",
   "execution_count": 4394,
   "metadata": {},
   "outputs": [
    {
     "data": {
      "text/plain": [
       "32"
      ]
     },
     "execution_count": 4394,
     "metadata": {},
     "output_type": "execute_result"
    }
   ],
   "source": [
    "num_features = ['MSSubClass', 'LotFrontage', 'LotArea', 'OverallQual', \n",
    "                'OverallCond', 'YearBuilt', 'YearRemodAdd', 'MasVnrArea', \n",
    "                '1stFlrSF','2ndFlrSF', 'LowQualFinSF', 'GrLivArea', 'BsmtFullBath', \n",
    "                'BsmtHalfBath', 'FullBath', 'HalfBath', 'BedroomAbvGr', \n",
    "                'KitchenAbvGr', 'TotRmsAbvGrd', 'Fireplaces', 'GarageYrBlt', \n",
    "                'GarageCars', 'GarageArea', 'WoodDeckSF','OpenPorchSF', \n",
    "                'EnclosedPorch', '3SsnPorch', 'ScreenPorch', 'PoolArea', \n",
    "                'MiscVal', 'MoSold', 'YrSold']\n",
    "len(num_features)"
   ]
  },
  {
   "cell_type": "markdown",
   "metadata": {},
   "source": [
    "Разделим датасет на train и test\n"
   ]
  },
  {
   "cell_type": "code",
   "execution_count": 4395,
   "metadata": {},
   "outputs": [
    {
     "data": {
      "text/plain": [
       "((1168, 32), (292, 32))"
      ]
     },
     "execution_count": 4395,
     "metadata": {},
     "output_type": "execute_result"
    }
   ],
   "source": [
    "X_train, X_test, y_train, y_test = train_test_split(df[num_features], df['SalePrice'], test_size=0.2, random_state=42)\n",
    "X_train.shape, X_test.shape"
   ]
  },
  {
   "cell_type": "markdown",
   "metadata": {},
   "source": [
    "## Сделайте стандартизацию/заполните пустые значения/исследуйте на выбросы данные признаков обучающей и тестовой выборки(3 балл)"
   ]
  },
  {
   "cell_type": "markdown",
   "metadata": {},
   "source": [
    "#### Сначала заполним пустые значения"
   ]
  },
  {
   "cell_type": "code",
   "execution_count": 4396,
   "metadata": {},
   "outputs": [
    {
     "name": "stdout",
     "output_type": "stream",
     "text": [
      "             total missing  proportion\n",
      "LotFrontage            217    0.185788\n",
      "MasVnrArea               6    0.005137\n",
      "GarageYrBlt             64    0.054795\n"
     ]
    },
    {
     "data": {
      "text/plain": [
       "array([ 936,  973,  650, 1278,  234,  977])"
      ]
     },
     "execution_count": 4396,
     "metadata": {},
     "output_type": "execute_result"
    }
   ],
   "source": [
    "result_train = pd.concat([X_train.isnull().sum(), X_train.isnull().mean()], axis=1)\n",
    "result_train = result_train.rename(index=str,columns={0:'total missing',1:'proportion'})\n",
    "print(result_train.apply(lambda x: x[x > 0]))\n",
    "\n",
    "# has_null_val = result.apply(lambda x: x[x > 0]).index\n",
    "# has_null_val\n",
    "\n",
    "null_index_for_MasVnrArea_train = X_train[X_train['MasVnrArea'].isnull()].index\n",
    "null_index_for_MasVnrArea_train.to_numpy()\n"
   ]
  },
  {
   "cell_type": "markdown",
   "metadata": {},
   "source": [
    "MasVnrArea  можно удалить. 6 примеров на фоне 1400 это мало"
   ]
  },
  {
   "cell_type": "code",
   "execution_count": 4397,
   "metadata": {},
   "outputs": [
    {
     "data": {
      "text/plain": [
       "((1162, 32), (1162,))"
      ]
     },
     "execution_count": 4397,
     "metadata": {},
     "output_type": "execute_result"
    }
   ],
   "source": [
    "X_train = X_train.dropna(subset=['MasVnrArea'], axis=0, inplace=False)\n",
    "y_train = y_train.drop(null_index_for_MasVnrArea_train )\n",
    "\n",
    "X_train.shape, y_train.shape"
   ]
  },
  {
   "cell_type": "markdown",
   "metadata": {},
   "source": [
    "GarageYrBlt - год постройки гаража. Значнеие равно None в случае, если гаража нет вприницпе. Это показанно ниже. \n"
   ]
  },
  {
   "cell_type": "code",
   "execution_count": 4398,
   "metadata": {},
   "outputs": [
    {
     "name": "stdout",
     "output_type": "stream",
     "text": [
      "(64, 2) 0\n"
     ]
    },
    {
     "data": {
      "text/html": [
       "<div>\n",
       "<style scoped>\n",
       "    .dataframe tbody tr th:only-of-type {\n",
       "        vertical-align: middle;\n",
       "    }\n",
       "\n",
       "    .dataframe tbody tr th {\n",
       "        vertical-align: top;\n",
       "    }\n",
       "\n",
       "    .dataframe thead th {\n",
       "        text-align: right;\n",
       "    }\n",
       "</style>\n",
       "<table border=\"1\" class=\"dataframe\">\n",
       "  <thead>\n",
       "    <tr style=\"text-align: right;\">\n",
       "      <th></th>\n",
       "      <th>GarageYrBlt</th>\n",
       "      <th>GarageArea</th>\n",
       "    </tr>\n",
       "  </thead>\n",
       "  <tbody>\n",
       "    <tr>\n",
       "      <th>638</th>\n",
       "      <td>NaN</td>\n",
       "      <td>0</td>\n",
       "    </tr>\n",
       "    <tr>\n",
       "      <th>210</th>\n",
       "      <td>NaN</td>\n",
       "      <td>0</td>\n",
       "    </tr>\n",
       "    <tr>\n",
       "      <th>48</th>\n",
       "      <td>NaN</td>\n",
       "      <td>0</td>\n",
       "    </tr>\n",
       "    <tr>\n",
       "      <th>155</th>\n",
       "      <td>NaN</td>\n",
       "      <td>0</td>\n",
       "    </tr>\n",
       "    <tr>\n",
       "      <th>1030</th>\n",
       "      <td>NaN</td>\n",
       "      <td>0</td>\n",
       "    </tr>\n",
       "    <tr>\n",
       "      <th>...</th>\n",
       "      <td>...</td>\n",
       "      <td>...</td>\n",
       "    </tr>\n",
       "    <tr>\n",
       "      <th>520</th>\n",
       "      <td>NaN</td>\n",
       "      <td>0</td>\n",
       "    </tr>\n",
       "    <tr>\n",
       "      <th>241</th>\n",
       "      <td>NaN</td>\n",
       "      <td>0</td>\n",
       "    </tr>\n",
       "    <tr>\n",
       "      <th>562</th>\n",
       "      <td>NaN</td>\n",
       "      <td>0</td>\n",
       "    </tr>\n",
       "    <tr>\n",
       "      <th>1337</th>\n",
       "      <td>NaN</td>\n",
       "      <td>0</td>\n",
       "    </tr>\n",
       "    <tr>\n",
       "      <th>1123</th>\n",
       "      <td>NaN</td>\n",
       "      <td>0</td>\n",
       "    </tr>\n",
       "  </tbody>\n",
       "</table>\n",
       "<p>64 rows × 2 columns</p>\n",
       "</div>"
      ],
      "text/plain": [
       "      GarageYrBlt  GarageArea\n",
       "638           NaN           0\n",
       "210           NaN           0\n",
       "48            NaN           0\n",
       "155           NaN           0\n",
       "1030          NaN           0\n",
       "...           ...         ...\n",
       "520           NaN           0\n",
       "241           NaN           0\n",
       "562           NaN           0\n",
       "1337          NaN           0\n",
       "1123          NaN           0\n",
       "\n",
       "[64 rows x 2 columns]"
      ]
     },
     "execution_count": 4398,
     "metadata": {},
     "output_type": "execute_result"
    }
   ],
   "source": [
    "mask = X_train[\"GarageYrBlt\"].isnull()\n",
    "\n",
    "subset = [\"GarageYrBlt\", \"GarageArea\"]\n",
    "test = X_train[subset].loc[mask, :]\n",
    "\n",
    "print(test.shape, test[\"GarageArea\"].sum())\n",
    "test"
   ]
  },
  {
   "cell_type": "markdown",
   "metadata": {},
   "source": [
    "Заменим None на год продажи дома и добавим признак наличие или отсутствие гаража"
   ]
  },
  {
   "cell_type": "code",
   "execution_count": 4399,
   "metadata": {},
   "outputs": [
    {
     "data": {
      "text/plain": [
       "(1162,)"
      ]
     },
     "execution_count": 4399,
     "metadata": {},
     "output_type": "execute_result"
    }
   ],
   "source": [
    "for i in [\"GarageYrBlt\"]:\n",
    "    X_train[i + '_is_NA'] = np.where( X_train[i].isnull(), 0, 1)\n",
    "X_train[\"GarageYrBlt\"] = X_train[\"GarageYrBlt\"].fillna(value=df['YearBuilt'])\n",
    "X_train[\"GarageYrBlt\"].shape"
   ]
  },
  {
   "cell_type": "markdown",
   "metadata": {},
   "source": [
    "LotFrontage - это площадь фасада. Ее можно заменять на медианое значение"
   ]
  },
  {
   "cell_type": "code",
   "execution_count": 4400,
   "metadata": {},
   "outputs": [],
   "source": [
    "X_train[\"LotFrontage\"] = X_train[\"LotFrontage\"].fillna(X_train[\"LotFrontage\"].mean())"
   ]
  },
  {
   "cell_type": "markdown",
   "metadata": {},
   "source": [
    "Все тоже самое проделаем с X_test, там точно такие же проблемы"
   ]
  },
  {
   "cell_type": "code",
   "execution_count": 4401,
   "metadata": {},
   "outputs": [
    {
     "name": "stdout",
     "output_type": "stream",
     "text": [
      "(292, 32) (292,)\n"
     ]
    },
    {
     "data": {
      "text/plain": [
       "((290, 33), (290,))"
      ]
     },
     "execution_count": 4401,
     "metadata": {},
     "output_type": "execute_result"
    }
   ],
   "source": [
    "print(X_test.shape, y_test.shape)\n",
    "null_index_for_MasVnrArea_test = X_test[X_test['MasVnrArea'].isnull()].index\n",
    "null_index_for_MasVnrArea_test.to_numpy()\n",
    "X_test = X_test.dropna(subset=['MasVnrArea'], axis=0, inplace=False)\n",
    "y_test = y_test.drop(null_index_for_MasVnrArea_test)\n",
    "for i in [\"GarageYrBlt\"]:\n",
    "    X_test[i + '_is_NA'] = np.where( X_test[i].isnull(), 0, 1)\n",
    "X_test[\"GarageYrBlt\"] = X_test[\"GarageYrBlt\"].fillna(value=df['YearBuilt'])\n",
    "X_test[\"LotFrontage\"] = X_test[\"LotFrontage\"].fillna(X_test[\"LotFrontage\"].mean())\n",
    "X_test.shape, y_test.shape\n"
   ]
  },
  {
   "cell_type": "markdown",
   "metadata": {},
   "source": [
    "#### Исследуем на выбросы"
   ]
  },
  {
   "cell_type": "markdown",
   "metadata": {},
   "source": [
    "Выбросы ищем с помощью IQR метода"
   ]
  },
  {
   "cell_type": "code",
   "execution_count": 4402,
   "metadata": {},
   "outputs": [],
   "source": [
    "def outlier_detect_IQR(data, col, threshold=3):\n",
    "    f = False\n",
    "    # Рассчитываем межквартильный размах (IQR).\n",
    "    IQR = data[col].quantile(0.75) - data[col].quantile(0.25)\n",
    "\n",
    "    # Вычисляем верхнюю и нижнюю границы для определения выбросов.\n",
    "    Lower_fence = data[col].quantile(0.25) - (IQR * threshold)\n",
    "    Upper_fence = data[col].quantile(0.75) + (IQR * threshold)\n",
    "\n",
    "    # Формируем кортеж с использованными границами.\n",
    "    para = (Upper_fence, Lower_fence)\n",
    "\n",
    "    # Создаем временный DataFrame, в котором для каждой строки указываем, превышает ли значение в столбце заданные границы.\n",
    "    tmp = pd.concat([data[col] > Upper_fence, data[col] < Lower_fence], axis=1)\n",
    "\n",
    "    # Находим индексы строк, содержащих хотя бы один выброс.\n",
    "    outlier_index = tmp.any(axis=1)\n",
    "\n",
    "    # Выводим информацию о найденных выбросах.\n",
    "    if len(outlier_index.value_counts()) > 1:\n",
    "        f = True\n",
    "        #print(col, end= \": \")\n",
    "        #print('Найдено выбросов:', outlier_index.value_counts().iloc[1])\n",
    "    # Возвращаем серию с булевыми значениями и кортеж с границами.\n",
    "    return outlier_index,f\n"
   ]
  },
  {
   "cell_type": "markdown",
   "metadata": {},
   "source": [
    "Удалим те значения, количество которых меньше 55."
   ]
  },
  {
   "cell_type": "code",
   "execution_count": 4403,
   "metadata": {},
   "outputs": [
    {
     "name": "stdout",
     "output_type": "stream",
     "text": [
      "BsmtHalfBath: Найдено выбросов: 62\n",
      "EnclosedPorch: Найдено выбросов: 138\n",
      "ScreenPorch: Найдено выбросов: 88\n",
      "(967, 33) (967,)\n",
      "BsmtHalfBath: Найдено выбросов в тест: 15\n",
      "EnclosedPorch: Найдено выбросов в тест: 40\n",
      "ScreenPorch: Найдено выбросов в тест: 16\n"
     ]
    }
   ],
   "source": [
    "for i in num_features:\n",
    "    index, find = outlier_detect_IQR(data=X_train, col=i, threshold=3)    \n",
    "    if find:\n",
    "        if index.value_counts().iloc[1] < 55:\n",
    "            X_train = X_train[~index]\n",
    "            y_train = y_train[~index]\n",
    "        else:\n",
    "            print(i, end= \": \")\n",
    "            print('Найдено выбросов:', index.value_counts().iloc[1])\n",
    "\n",
    "print(X_train.shape, y_train.shape)\n",
    "\n",
    "for i in num_features:\n",
    "    index, find = outlier_detect_IQR(data=X_test, col=i, threshold=3)    \n",
    "    if find:\n",
    "        if index.value_counts().iloc[1] < 12:\n",
    "            X_test = X_test[~index]\n",
    "            y_test = y_test[~index]\n",
    "        else:\n",
    "            print(i, end= \": \")\n",
    "            print('Найдено выбросов в тест:', index.value_counts().iloc[1])\n"
   ]
  },
  {
   "cell_type": "markdown",
   "metadata": {},
   "source": [
    "Для отработки разных способов обработки выбрасов, выбросы 62, 88 заполним медианой и модой\n",
    "\n",
    "\n",
    "Вообще, я понимаю, что оставшиеся выбросы обусловлены тем, что либо нет крыльца, определенного типа, и тогда в таблице ноль, либо оно есть и там стоит площадь крыльца данного типа. Домов, где крыльца нет, сильно больше, чем домов, с крыльцом, поэтому все такие дома воспринимаются как выбросы. Такова природа оставщихся выбросов."
   ]
  },
  {
   "cell_type": "code",
   "execution_count": 4404,
   "metadata": {},
   "outputs": [
    {
     "name": "stdout",
     "output_type": "stream",
     "text": [
      "(967, 33) (967,)\n"
     ]
    }
   ],
   "source": [
    "index1, find = outlier_detect_IQR(data=X_train, col='BsmtHalfBath', threshold=3)\n",
    "index2, find = outlier_detect_IQR(data=X_train, col='ScreenPorch', threshold=3)\n",
    "\n",
    "X_train.loc[index1, 'BsmtHalfBath'] = X_train['BsmtHalfBath'].mode()[0]\n",
    "X_train.loc[index2, 'ScreenPorch'] = X_train['ScreenPorch'].median()\n",
    "print(X_train.shape, y_train.shape)\n",
    "\n",
    "\n",
    "index_test_1, find = outlier_detect_IQR(data=X_test, col='BsmtHalfBath', threshold=3)\n",
    "index_test_2, find = outlier_detect_IQR(data=X_test, col='ScreenPorch', threshold=3)\n",
    "\n",
    "X_test.loc[index_test_1, 'BsmtHalfBath'] = X_test['BsmtHalfBath'].mode()[0]\n",
    "X_test.loc[index_test_2, 'ScreenPorch'] = X_test['ScreenPorch'].median()"
   ]
  },
  {
   "cell_type": "markdown",
   "metadata": {},
   "source": [
    "оставим EnclosedPorch без изменения. Посмотрим приведет ли оно к переобучению или нет"
   ]
  },
  {
   "cell_type": "markdown",
   "metadata": {},
   "source": [
    "#### Проведем нормализацию"
   ]
  },
  {
   "cell_type": "markdown",
   "metadata": {},
   "source": [
    "нужно отобрать признаки, которые хотим нормализировать. Видимо, все кроме фичей с годами, оценки и  наличие чего-либо"
   ]
  },
  {
   "cell_type": "code",
   "execution_count": 4405,
   "metadata": {},
   "outputs": [],
   "source": [
    "norm_features = ['MSSubClass', 'LotFrontage', 'LotArea',  'MasVnrArea', '1stFlrSF', '2ndFlrSF', 'LowQualFinSF', \n",
    "                'GrLivArea', 'GarageArea', 'WoodDeckSF','OpenPorchSF', 'EnclosedPorch', '3SsnPorch', 'ScreenPorch', \n",
    "                'PoolArea', 'MiscVal']\n"
   ]
  },
  {
   "cell_type": "code",
   "execution_count": 4406,
   "metadata": {},
   "outputs": [],
   "source": [
    "for feature in norm_features:\n",
    "    st = StandardScaler().fit(X_train[[feature]])\n",
    "    X_train[feature] = st.transform(X_train[[feature]])\n",
    "\n",
    "for feature in norm_features:\n",
    "    st = StandardScaler().fit(X_test[[feature]])\n",
    "    X_test[feature] = st.transform(X_test[[feature]])"
   ]
  },
  {
   "cell_type": "markdown",
   "metadata": {},
   "source": [
    "## Воспользоваться методом OLS библиотеки statsmodels для рассчета коэфициентов линейной регрессии (1 балл)"
   ]
  },
  {
   "cell_type": "code",
   "execution_count": 4407,
   "metadata": {},
   "outputs": [
    {
     "data": {
      "text/html": [
       "<table class=\"simpletable\">\n",
       "<caption>OLS Regression Results</caption>\n",
       "<tr>\n",
       "  <th>Dep. Variable:</th>        <td>SalePrice</td>    <th>  R-squared:         </th> <td>   0.857</td> \n",
       "</tr>\n",
       "<tr>\n",
       "  <th>Model:</th>                   <td>OLS</td>       <th>  Adj. R-squared:    </th> <td>   0.853</td> \n",
       "</tr>\n",
       "<tr>\n",
       "  <th>Method:</th>             <td>Least Squares</td>  <th>  F-statistic:       </th> <td>   225.5</td> \n",
       "</tr>\n",
       "<tr>\n",
       "  <th>Date:</th>             <td>Fri, 08 Dec 2023</td> <th>  Prob (F-statistic):</th>  <td>  0.00</td>  \n",
       "</tr>\n",
       "<tr>\n",
       "  <th>Time:</th>                 <td>02:33:17</td>     <th>  Log-Likelihood:    </th> <td> -11225.</td> \n",
       "</tr>\n",
       "<tr>\n",
       "  <th>No. Observations:</th>      <td>   967</td>      <th>  AIC:               </th> <td>2.250e+04</td>\n",
       "</tr>\n",
       "<tr>\n",
       "  <th>Df Residuals:</th>          <td>   941</td>      <th>  BIC:               </th> <td>2.263e+04</td>\n",
       "</tr>\n",
       "<tr>\n",
       "  <th>Df Model:</th>              <td>    25</td>      <th>                     </th>     <td> </td>    \n",
       "</tr>\n",
       "<tr>\n",
       "  <th>Covariance Type:</th>      <td>nonrobust</td>    <th>                     </th>     <td> </td>    \n",
       "</tr>\n",
       "</table>\n",
       "<table class=\"simpletable\">\n",
       "<tr>\n",
       "          <td></td>             <th>coef</th>     <th>std err</th>      <th>t</th>      <th>P>|t|</th>  <th>[0.025</th>    <th>0.975]</th>  \n",
       "</tr>\n",
       "<tr>\n",
       "  <th>MSSubClass</th>        <td>-4478.4003</td> <td> 1172.822</td> <td>   -3.818</td> <td> 0.000</td> <td>-6780.049</td> <td>-2176.751</td>\n",
       "</tr>\n",
       "<tr>\n",
       "  <th>LotFrontage</th>       <td> 1602.3845</td> <td> 1189.686</td> <td>    1.347</td> <td> 0.178</td> <td> -732.361</td> <td> 3937.130</td>\n",
       "</tr>\n",
       "<tr>\n",
       "  <th>LotArea</th>           <td> 3185.1635</td> <td> 1254.187</td> <td>    2.540</td> <td> 0.011</td> <td>  723.837</td> <td> 5646.490</td>\n",
       "</tr>\n",
       "<tr>\n",
       "  <th>OverallQual</th>       <td> 1.608e+04</td> <td> 1123.324</td> <td>   14.317</td> <td> 0.000</td> <td> 1.39e+04</td> <td> 1.83e+04</td>\n",
       "</tr>\n",
       "<tr>\n",
       "  <th>OverallCond</th>       <td> 4366.8956</td> <td> 1013.762</td> <td>    4.308</td> <td> 0.000</td> <td> 2377.400</td> <td> 6356.391</td>\n",
       "</tr>\n",
       "<tr>\n",
       "  <th>YearBuilt</th>         <td>  437.0518</td> <td>   77.864</td> <td>    5.613</td> <td> 0.000</td> <td>  284.245</td> <td>  589.858</td>\n",
       "</tr>\n",
       "<tr>\n",
       "  <th>YearRemodAdd</th>      <td>  123.5801</td> <td>   65.768</td> <td>    1.879</td> <td> 0.061</td> <td>   -5.489</td> <td>  252.649</td>\n",
       "</tr>\n",
       "<tr>\n",
       "  <th>MasVnrArea</th>        <td> 1752.9616</td> <td> 1008.147</td> <td>    1.739</td> <td> 0.082</td> <td> -225.516</td> <td> 3731.439</td>\n",
       "</tr>\n",
       "<tr>\n",
       "  <th>1stFlrSF</th>          <td> 1.193e+04</td> <td> 1053.296</td> <td>   11.327</td> <td> 0.000</td> <td> 9863.408</td> <td>  1.4e+04</td>\n",
       "</tr>\n",
       "<tr>\n",
       "  <th>2ndFlrSF</th>          <td> 7580.5793</td> <td> 1139.752</td> <td>    6.651</td> <td> 0.000</td> <td> 5343.830</td> <td> 9817.328</td>\n",
       "</tr>\n",
       "<tr>\n",
       "  <th>LowQualFinSF</th>      <td> 1.325e-07</td> <td> 2.03e-07</td> <td>    0.652</td> <td> 0.515</td> <td>-2.66e-07</td> <td> 5.31e-07</td>\n",
       "</tr>\n",
       "<tr>\n",
       "  <th>GrLivArea</th>         <td> 1.598e+04</td> <td> 1248.793</td> <td>   12.799</td> <td> 0.000</td> <td> 1.35e+04</td> <td> 1.84e+04</td>\n",
       "</tr>\n",
       "<tr>\n",
       "  <th>BsmtFullBath</th>      <td> 1.453e+04</td> <td> 1892.276</td> <td>    7.678</td> <td> 0.000</td> <td> 1.08e+04</td> <td> 1.82e+04</td>\n",
       "</tr>\n",
       "<tr>\n",
       "  <th>BsmtHalfBath</th>      <td>-5.609e-08</td> <td>  8.6e-08</td> <td>   -0.652</td> <td> 0.514</td> <td>-2.25e-07</td> <td> 1.13e-07</td>\n",
       "</tr>\n",
       "<tr>\n",
       "  <th>FullBath</th>          <td>-2637.1927</td> <td> 2783.218</td> <td>   -0.948</td> <td> 0.344</td> <td>-8099.226</td> <td> 2824.841</td>\n",
       "</tr>\n",
       "<tr>\n",
       "  <th>HalfBath</th>          <td>-1295.3941</td> <td> 2618.659</td> <td>   -0.495</td> <td> 0.621</td> <td>-6434.481</td> <td> 3843.693</td>\n",
       "</tr>\n",
       "<tr>\n",
       "  <th>BedroomAbvGr</th>      <td>-1.132e+04</td> <td> 1815.310</td> <td>   -6.236</td> <td> 0.000</td> <td>-1.49e+04</td> <td>-7758.348</td>\n",
       "</tr>\n",
       "<tr>\n",
       "  <th>KitchenAbvGr</th>      <td>-8.902e+05</td> <td> 1.37e+06</td> <td>   -0.652</td> <td> 0.515</td> <td>-3.57e+06</td> <td> 1.79e+06</td>\n",
       "</tr>\n",
       "<tr>\n",
       "  <th>TotRmsAbvGrd</th>      <td> 4783.1207</td> <td> 1229.756</td> <td>    3.889</td> <td> 0.000</td> <td> 2369.739</td> <td> 7196.503</td>\n",
       "</tr>\n",
       "<tr>\n",
       "  <th>Fireplaces</th>        <td> 3245.1695</td> <td> 1707.403</td> <td>    1.901</td> <td> 0.058</td> <td> -105.589</td> <td> 6595.928</td>\n",
       "</tr>\n",
       "<tr>\n",
       "  <th>GarageYrBlt</th>       <td>  -64.6016</td> <td>   80.702</td> <td>   -0.800</td> <td> 0.424</td> <td> -222.979</td> <td>   93.776</td>\n",
       "</tr>\n",
       "<tr>\n",
       "  <th>GarageCars</th>        <td> 6033.8023</td> <td> 2965.042</td> <td>    2.035</td> <td> 0.042</td> <td>  214.942</td> <td> 1.19e+04</td>\n",
       "</tr>\n",
       "<tr>\n",
       "  <th>GarageArea</th>        <td> 7079.4438</td> <td> 2054.231</td> <td>    3.446</td> <td> 0.001</td> <td> 3048.040</td> <td> 1.11e+04</td>\n",
       "</tr>\n",
       "<tr>\n",
       "  <th>WoodDeckSF</th>        <td> 1113.5814</td> <td>  950.903</td> <td>    1.171</td> <td> 0.242</td> <td> -752.555</td> <td> 2979.718</td>\n",
       "</tr>\n",
       "<tr>\n",
       "  <th>OpenPorchSF</th>       <td> 1562.0099</td> <td>  970.474</td> <td>    1.610</td> <td> 0.108</td> <td> -342.534</td> <td> 3466.554</td>\n",
       "</tr>\n",
       "<tr>\n",
       "  <th>EnclosedPorch</th>     <td>   52.5058</td> <td>  988.912</td> <td>    0.053</td> <td> 0.958</td> <td>-1888.223</td> <td> 1993.234</td>\n",
       "</tr>\n",
       "<tr>\n",
       "  <th>3SsnPorch</th>         <td>         0</td> <td>        0</td> <td>      nan</td> <td>   nan</td> <td>        0</td> <td>        0</td>\n",
       "</tr>\n",
       "<tr>\n",
       "  <th>ScreenPorch</th>       <td>         0</td> <td>        0</td> <td>      nan</td> <td>   nan</td> <td>        0</td> <td>        0</td>\n",
       "</tr>\n",
       "<tr>\n",
       "  <th>PoolArea</th>          <td>         0</td> <td>        0</td> <td>      nan</td> <td>   nan</td> <td>        0</td> <td>        0</td>\n",
       "</tr>\n",
       "<tr>\n",
       "  <th>MiscVal</th>           <td>         0</td> <td>        0</td> <td>      nan</td> <td>   nan</td> <td>        0</td> <td>        0</td>\n",
       "</tr>\n",
       "<tr>\n",
       "  <th>MoSold</th>            <td> -102.2805</td> <td>  334.154</td> <td>   -0.306</td> <td> 0.760</td> <td> -758.053</td> <td>  553.492</td>\n",
       "</tr>\n",
       "<tr>\n",
       "  <th>YrSold</th>            <td>  -13.0975</td> <td>  677.149</td> <td>   -0.019</td> <td> 0.985</td> <td>-1341.994</td> <td> 1315.799</td>\n",
       "</tr>\n",
       "<tr>\n",
       "  <th>GarageYrBlt_is_NA</th> <td>-2.045e+04</td> <td> 5208.553</td> <td>   -3.925</td> <td> 0.000</td> <td>-3.07e+04</td> <td>-1.02e+04</td>\n",
       "</tr>\n",
       "</table>\n",
       "<table class=\"simpletable\">\n",
       "<tr>\n",
       "  <th>Omnibus:</th>       <td>281.738</td> <th>  Durbin-Watson:     </th> <td>   1.954</td>\n",
       "</tr>\n",
       "<tr>\n",
       "  <th>Prob(Omnibus):</th> <td> 0.000</td>  <th>  Jarque-Bera (JB):  </th> <td>3192.233</td>\n",
       "</tr>\n",
       "<tr>\n",
       "  <th>Skew:</th>          <td> 0.993</td>  <th>  Prob(JB):          </th> <td>    0.00</td>\n",
       "</tr>\n",
       "<tr>\n",
       "  <th>Kurtosis:</th>      <td>11.677</td>  <th>  Cond. No.          </th> <td>1.22e+16</td>\n",
       "</tr>\n",
       "</table><br/><br/>Notes:<br/>[1] Standard Errors assume that the covariance matrix of the errors is correctly specified.<br/>[2] The smallest eigenvalue is 1.02e-22. This might indicate that there are<br/>strong multicollinearity problems or that the design matrix is singular."
      ],
      "text/latex": [
       "\\begin{center}\n",
       "\\begin{tabular}{lclc}\n",
       "\\toprule\n",
       "\\textbf{Dep. Variable:}      &    SalePrice     & \\textbf{  R-squared:         } &     0.857   \\\\\n",
       "\\textbf{Model:}              &       OLS        & \\textbf{  Adj. R-squared:    } &     0.853   \\\\\n",
       "\\textbf{Method:}             &  Least Squares   & \\textbf{  F-statistic:       } &     225.5   \\\\\n",
       "\\textbf{Date:}               & Fri, 08 Dec 2023 & \\textbf{  Prob (F-statistic):} &     0.00    \\\\\n",
       "\\textbf{Time:}               &     02:33:17     & \\textbf{  Log-Likelihood:    } &   -11225.   \\\\\n",
       "\\textbf{No. Observations:}   &         967      & \\textbf{  AIC:               } & 2.250e+04   \\\\\n",
       "\\textbf{Df Residuals:}       &         941      & \\textbf{  BIC:               } & 2.263e+04   \\\\\n",
       "\\textbf{Df Model:}           &          25      & \\textbf{                     } &             \\\\\n",
       "\\textbf{Covariance Type:}    &    nonrobust     & \\textbf{                     } &             \\\\\n",
       "\\bottomrule\n",
       "\\end{tabular}\n",
       "\\begin{tabular}{lcccccc}\n",
       "                             & \\textbf{coef} & \\textbf{std err} & \\textbf{t} & \\textbf{P$> |$t$|$} & \\textbf{[0.025} & \\textbf{0.975]}  \\\\\n",
       "\\midrule\n",
       "\\textbf{MSSubClass}          &   -4478.4003  &     1172.822     &    -3.818  &         0.000        &    -6780.049    &    -2176.751     \\\\\n",
       "\\textbf{LotFrontage}         &    1602.3845  &     1189.686     &     1.347  &         0.178        &     -732.361    &     3937.130     \\\\\n",
       "\\textbf{LotArea}             &    3185.1635  &     1254.187     &     2.540  &         0.011        &      723.837    &     5646.490     \\\\\n",
       "\\textbf{OverallQual}         &    1.608e+04  &     1123.324     &    14.317  &         0.000        &     1.39e+04    &     1.83e+04     \\\\\n",
       "\\textbf{OverallCond}         &    4366.8956  &     1013.762     &     4.308  &         0.000        &     2377.400    &     6356.391     \\\\\n",
       "\\textbf{YearBuilt}           &     437.0518  &       77.864     &     5.613  &         0.000        &      284.245    &      589.858     \\\\\n",
       "\\textbf{YearRemodAdd}        &     123.5801  &       65.768     &     1.879  &         0.061        &       -5.489    &      252.649     \\\\\n",
       "\\textbf{MasVnrArea}          &    1752.9616  &     1008.147     &     1.739  &         0.082        &     -225.516    &     3731.439     \\\\\n",
       "\\textbf{1stFlrSF}            &    1.193e+04  &     1053.296     &    11.327  &         0.000        &     9863.408    &      1.4e+04     \\\\\n",
       "\\textbf{2ndFlrSF}            &    7580.5793  &     1139.752     &     6.651  &         0.000        &     5343.830    &     9817.328     \\\\\n",
       "\\textbf{LowQualFinSF}        &    1.325e-07  &     2.03e-07     &     0.652  &         0.515        &    -2.66e-07    &     5.31e-07     \\\\\n",
       "\\textbf{GrLivArea}           &    1.598e+04  &     1248.793     &    12.799  &         0.000        &     1.35e+04    &     1.84e+04     \\\\\n",
       "\\textbf{BsmtFullBath}        &    1.453e+04  &     1892.276     &     7.678  &         0.000        &     1.08e+04    &     1.82e+04     \\\\\n",
       "\\textbf{BsmtHalfBath}        &   -5.609e-08  &      8.6e-08     &    -0.652  &         0.514        &    -2.25e-07    &     1.13e-07     \\\\\n",
       "\\textbf{FullBath}            &   -2637.1927  &     2783.218     &    -0.948  &         0.344        &    -8099.226    &     2824.841     \\\\\n",
       "\\textbf{HalfBath}            &   -1295.3941  &     2618.659     &    -0.495  &         0.621        &    -6434.481    &     3843.693     \\\\\n",
       "\\textbf{BedroomAbvGr}        &   -1.132e+04  &     1815.310     &    -6.236  &         0.000        &    -1.49e+04    &    -7758.348     \\\\\n",
       "\\textbf{KitchenAbvGr}        &   -8.902e+05  &     1.37e+06     &    -0.652  &         0.515        &    -3.57e+06    &     1.79e+06     \\\\\n",
       "\\textbf{TotRmsAbvGrd}        &    4783.1207  &     1229.756     &     3.889  &         0.000        &     2369.739    &     7196.503     \\\\\n",
       "\\textbf{Fireplaces}          &    3245.1695  &     1707.403     &     1.901  &         0.058        &     -105.589    &     6595.928     \\\\\n",
       "\\textbf{GarageYrBlt}         &     -64.6016  &       80.702     &    -0.800  &         0.424        &     -222.979    &       93.776     \\\\\n",
       "\\textbf{GarageCars}          &    6033.8023  &     2965.042     &     2.035  &         0.042        &      214.942    &     1.19e+04     \\\\\n",
       "\\textbf{GarageArea}          &    7079.4438  &     2054.231     &     3.446  &         0.001        &     3048.040    &     1.11e+04     \\\\\n",
       "\\textbf{WoodDeckSF}          &    1113.5814  &      950.903     &     1.171  &         0.242        &     -752.555    &     2979.718     \\\\\n",
       "\\textbf{OpenPorchSF}         &    1562.0099  &      970.474     &     1.610  &         0.108        &     -342.534    &     3466.554     \\\\\n",
       "\\textbf{EnclosedPorch}       &      52.5058  &      988.912     &     0.053  &         0.958        &    -1888.223    &     1993.234     \\\\\n",
       "\\textbf{3SsnPorch}           &            0  &            0     &       nan  &           nan        &            0    &            0     \\\\\n",
       "\\textbf{ScreenPorch}         &            0  &            0     &       nan  &           nan        &            0    &            0     \\\\\n",
       "\\textbf{PoolArea}            &            0  &            0     &       nan  &           nan        &            0    &            0     \\\\\n",
       "\\textbf{MiscVal}             &            0  &            0     &       nan  &           nan        &            0    &            0     \\\\\n",
       "\\textbf{MoSold}              &    -102.2805  &      334.154     &    -0.306  &         0.760        &     -758.053    &      553.492     \\\\\n",
       "\\textbf{YrSold}              &     -13.0975  &      677.149     &    -0.019  &         0.985        &    -1341.994    &     1315.799     \\\\\n",
       "\\textbf{GarageYrBlt\\_is\\_NA} &   -2.045e+04  &     5208.553     &    -3.925  &         0.000        &    -3.07e+04    &    -1.02e+04     \\\\\n",
       "\\bottomrule\n",
       "\\end{tabular}\n",
       "\\begin{tabular}{lclc}\n",
       "\\textbf{Omnibus:}       & 281.738 & \\textbf{  Durbin-Watson:     } &    1.954  \\\\\n",
       "\\textbf{Prob(Omnibus):} &   0.000 & \\textbf{  Jarque-Bera (JB):  } & 3192.233  \\\\\n",
       "\\textbf{Skew:}          &   0.993 & \\textbf{  Prob(JB):          } &     0.00  \\\\\n",
       "\\textbf{Kurtosis:}      &  11.677 & \\textbf{  Cond. No.          } & 1.22e+16  \\\\\n",
       "\\bottomrule\n",
       "\\end{tabular}\n",
       "%\\caption{OLS Regression Results}\n",
       "\\end{center}\n",
       "\n",
       "Notes: \\newline\n",
       " [1] Standard Errors assume that the covariance matrix of the errors is correctly specified. \\newline\n",
       " [2] The smallest eigenvalue is 1.02e-22. This might indicate that there are \\newline\n",
       " strong multicollinearity problems or that the design matrix is singular."
      ],
      "text/plain": [
       "<class 'statsmodels.iolib.summary.Summary'>\n",
       "\"\"\"\n",
       "                            OLS Regression Results                            \n",
       "==============================================================================\n",
       "Dep. Variable:              SalePrice   R-squared:                       0.857\n",
       "Model:                            OLS   Adj. R-squared:                  0.853\n",
       "Method:                 Least Squares   F-statistic:                     225.5\n",
       "Date:                Fri, 08 Dec 2023   Prob (F-statistic):               0.00\n",
       "Time:                        02:33:17   Log-Likelihood:                -11225.\n",
       "No. Observations:                 967   AIC:                         2.250e+04\n",
       "Df Residuals:                     941   BIC:                         2.263e+04\n",
       "Df Model:                          25                                         \n",
       "Covariance Type:            nonrobust                                         \n",
       "=====================================================================================\n",
       "                        coef    std err          t      P>|t|      [0.025      0.975]\n",
       "-------------------------------------------------------------------------------------\n",
       "MSSubClass        -4478.4003   1172.822     -3.818      0.000   -6780.049   -2176.751\n",
       "LotFrontage        1602.3845   1189.686      1.347      0.178    -732.361    3937.130\n",
       "LotArea            3185.1635   1254.187      2.540      0.011     723.837    5646.490\n",
       "OverallQual        1.608e+04   1123.324     14.317      0.000    1.39e+04    1.83e+04\n",
       "OverallCond        4366.8956   1013.762      4.308      0.000    2377.400    6356.391\n",
       "YearBuilt           437.0518     77.864      5.613      0.000     284.245     589.858\n",
       "YearRemodAdd        123.5801     65.768      1.879      0.061      -5.489     252.649\n",
       "MasVnrArea         1752.9616   1008.147      1.739      0.082    -225.516    3731.439\n",
       "1stFlrSF           1.193e+04   1053.296     11.327      0.000    9863.408     1.4e+04\n",
       "2ndFlrSF           7580.5793   1139.752      6.651      0.000    5343.830    9817.328\n",
       "LowQualFinSF       1.325e-07   2.03e-07      0.652      0.515   -2.66e-07    5.31e-07\n",
       "GrLivArea          1.598e+04   1248.793     12.799      0.000    1.35e+04    1.84e+04\n",
       "BsmtFullBath       1.453e+04   1892.276      7.678      0.000    1.08e+04    1.82e+04\n",
       "BsmtHalfBath      -5.609e-08    8.6e-08     -0.652      0.514   -2.25e-07    1.13e-07\n",
       "FullBath          -2637.1927   2783.218     -0.948      0.344   -8099.226    2824.841\n",
       "HalfBath          -1295.3941   2618.659     -0.495      0.621   -6434.481    3843.693\n",
       "BedroomAbvGr      -1.132e+04   1815.310     -6.236      0.000   -1.49e+04   -7758.348\n",
       "KitchenAbvGr      -8.902e+05   1.37e+06     -0.652      0.515   -3.57e+06    1.79e+06\n",
       "TotRmsAbvGrd       4783.1207   1229.756      3.889      0.000    2369.739    7196.503\n",
       "Fireplaces         3245.1695   1707.403      1.901      0.058    -105.589    6595.928\n",
       "GarageYrBlt         -64.6016     80.702     -0.800      0.424    -222.979      93.776\n",
       "GarageCars         6033.8023   2965.042      2.035      0.042     214.942    1.19e+04\n",
       "GarageArea         7079.4438   2054.231      3.446      0.001    3048.040    1.11e+04\n",
       "WoodDeckSF         1113.5814    950.903      1.171      0.242    -752.555    2979.718\n",
       "OpenPorchSF        1562.0099    970.474      1.610      0.108    -342.534    3466.554\n",
       "EnclosedPorch        52.5058    988.912      0.053      0.958   -1888.223    1993.234\n",
       "3SsnPorch                  0          0        nan        nan           0           0\n",
       "ScreenPorch                0          0        nan        nan           0           0\n",
       "PoolArea                   0          0        nan        nan           0           0\n",
       "MiscVal                    0          0        nan        nan           0           0\n",
       "MoSold             -102.2805    334.154     -0.306      0.760    -758.053     553.492\n",
       "YrSold              -13.0975    677.149     -0.019      0.985   -1341.994    1315.799\n",
       "GarageYrBlt_is_NA -2.045e+04   5208.553     -3.925      0.000   -3.07e+04   -1.02e+04\n",
       "==============================================================================\n",
       "Omnibus:                      281.738   Durbin-Watson:                   1.954\n",
       "Prob(Omnibus):                  0.000   Jarque-Bera (JB):             3192.233\n",
       "Skew:                           0.993   Prob(JB):                         0.00\n",
       "Kurtosis:                      11.677   Cond. No.                     1.22e+16\n",
       "==============================================================================\n",
       "\n",
       "Notes:\n",
       "[1] Standard Errors assume that the covariance matrix of the errors is correctly specified.\n",
       "[2] The smallest eigenvalue is 1.02e-22. This might indicate that there are\n",
       "strong multicollinearity problems or that the design matrix is singular.\n",
       "\"\"\""
      ]
     },
     "execution_count": 4407,
     "metadata": {},
     "output_type": "execute_result"
    }
   ],
   "source": [
    "model = sm.OLS(y_train, X_train).fit()\n",
    "model.summary()"
   ]
  },
  {
   "cell_type": "markdown",
   "metadata": {},
   "source": []
  },
  {
   "cell_type": "markdown",
   "metadata": {},
   "source": [
    "## Выберите переменные, которые статистически положительно связаны с ценой на дом. (1 балл) "
   ]
  },
  {
   "cell_type": "markdown",
   "metadata": {},
   "source": [
    "C ценой на дом статистически положительно связаны переменные с положиельными коэффициентами. Среди таких отберем те, у которых p-value < 0.05"
   ]
  },
  {
   "cell_type": "markdown",
   "metadata": {},
   "source": [
    "LotArea, OverallQual, OverallCond, YearBuilt, 1stFlrSF, 2ndFlrSF, GrLivArea, BsmtFullBath, TotRmsAbvGrd, GarageCars, GarageArea"
   ]
  },
  {
   "cell_type": "markdown",
   "metadata": {},
   "source": [
    "## Оцените модель на тестовом сете - метрики $R^2$ и RMSE. Что мы можем сказать по ошибке? (1 балл)"
   ]
  },
  {
   "cell_type": "code",
   "execution_count": 4408,
   "metadata": {},
   "outputs": [
    {
     "name": "stdout",
     "output_type": "stream",
     "text": [
      "RMSE:  26599.003866065108\n",
      "R-squared:  0.8569705962063477\n"
     ]
    }
   ],
   "source": [
    "from sklearn.metrics import mean_squared_error\n",
    "from math import sqrt\n",
    "model.params\n",
    "pred = X_test @ model.params\n",
    "print(\"RMSE: \", sqrt(mean_squared_error(y_train, model.predict())))\n",
    "# R-squared можно взять из таблицы\n",
    "print(\"R-squared: \", model.rsquared)"
   ]
  },
  {
   "cell_type": "markdown",
   "metadata": {},
   "source": [
    "Кажется, RMSE довольно плохой, а R-squared хороший получился.\n",
    "\n",
    "кажется, можно сделать вывод о том, что есть корреляция в дизайн-матрице, посколько R получился хорошим, а RMSE не хорошим :("
   ]
  },
  {
   "cell_type": "markdown",
   "metadata": {},
   "source": [
    "## Придумайте какой-нибудь хороший новый признак. Смогли ли вы снизить ошибку на обучении за счет него? (0.5 балла)"
   ]
  },
  {
   "cell_type": "markdown",
   "metadata": {},
   "source": [
    "## В нашей модели много признаков. Возможно ли нам уменьшить количеcтво признаков, при этом сохранив качество модели? (0.5 балла)"
   ]
  },
  {
   "cell_type": "markdown",
   "metadata": {},
   "source": [
    "Да, можно убрать те, которые дают нулевые коэффицинеты, а так же, если два признака имеют большую корреляцию, можно удалить один из них. Большая корреляцию у некоторых признаков есть. Это можно увидеть ниже"
   ]
  },
  {
   "cell_type": "code",
   "execution_count": 4409,
   "metadata": {},
   "outputs": [
    {
     "name": "stderr",
     "output_type": "stream",
     "text": [
      "/Users/moisha/miniconda3/envs/ml_env/lib/python3.12/site-packages/seaborn/matrix.py:260: FutureWarning: Format strings passed to MaskedConstant are ignored, but in future may error or produce different behavior\n",
      "  annotation = (\"{:\" + self.fmt + \"}\").format(val)\n"
     ]
    },
    {
     "data": {
      "text/plain": [
       "<Axes: >"
      ]
     },
     "execution_count": 4409,
     "metadata": {},
     "output_type": "execute_result"
    },
    {
     "data": {
      "image/png": "[encoded data removed]",
      "text/plain": [
       "<Figure size 1000x600 with 2 Axes>"
      ]
     },
     "metadata": {},
     "output_type": "display_data"
    }
   ],
   "source": [
    "corrmat = X_train.corr()\n",
    "fig, ax = plt.subplots()\n",
    "fig.set_size_inches(10, 6)\n",
    "sns.heatmap(corrmat, cmap=\"YlGnBu\", linewidths=.5, annot=True)"
   ]
  },
  {
   "cell_type": "code",
   "execution_count": null,
   "metadata": {},
   "outputs": [],
   "source": []
  }
 ],
 "metadata": {
  "kernelspec": {
   "display_name": "ml_env",
   "language": "python",
   "name": "python3"
  },
  "language_info": {
   "codemirror_mode": {
    "name": "ipython",
    "version": 3
   },
   "file_extension": ".py",
   "mimetype": "text/x-python",
   "name": "python",
   "nbconvert_exporter": "python",
   "pygments_lexer": "ipython3",
   "version": "3.12.0"
  }
 },
 "nbformat": 4,
 "nbformat_minor": 2
}
